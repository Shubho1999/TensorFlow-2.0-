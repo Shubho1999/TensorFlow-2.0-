{
  "nbformat": 4,
  "nbformat_minor": 0,
  "metadata": {
    "colab": {
      "name": "Copy of Assignment_4_Image_classification.ipynb",
      "provenance": [],
      "collapsed_sections": []
    },
    "kernelspec": {
      "name": "python3",
      "display_name": "Python 3"
    }
  },
  "cells": [
    {
      "cell_type": "markdown",
      "metadata": {
        "colab_type": "text",
        "id": "FbVhjPpzn6BM"
      },
      "source": [
        "First run the following cells to import current version of Tensorflow."
      ]
    },
    {
      "cell_type": "code",
      "metadata": {
        "colab_type": "code",
        "id": "jL3OqFKZ9dFg",
        "colab": {
          "base_uri": "https://localhost:8080/",
          "height": 34
        },
        "outputId": "3c8c80c7-c9cd-43de-9c4b-be9830c4daab"
      },
      "source": [
        "try:\n",
        "  # %tensorflow_version only exists in Colab.\n",
        "  %tensorflow_version 2.x\n",
        "except Exception:\n",
        "  pass\n"
      ],
      "execution_count": 1,
      "outputs": [
        {
          "output_type": "stream",
          "text": [
            "TensorFlow 2.x selected.\n"
          ],
          "name": "stdout"
        }
      ]
    },
    {
      "cell_type": "code",
      "metadata": {
        "colab_type": "code",
        "id": "dzLKpmZICaWN",
        "colab": {
          "base_uri": "https://localhost:8080/",
          "height": 51
        },
        "outputId": "89223fc9-5c43-4dce-a83b-d5bc5dd3eb6d"
      },
      "source": [
        "from __future__ import absolute_import, division, print_function, unicode_literals\n",
        "\n",
        "# TensorFlow and tf.keras\n",
        "import tensorflow as tf\n",
        "from tensorflow import keras\n",
        "from keras.utils import np_utils\n",
        "\n",
        "# Helper libraries\n",
        "import numpy as np\n",
        "import matplotlib.pyplot as plt\n",
        "\n",
        "print(tf.__version__)"
      ],
      "execution_count": 2,
      "outputs": [
        {
          "output_type": "stream",
          "text": [
            "2.1.0\n"
          ],
          "name": "stdout"
        },
        {
          "output_type": "stream",
          "text": [
            "Using TensorFlow backend.\n"
          ],
          "name": "stderr"
        }
      ]
    },
    {
      "cell_type": "markdown",
      "metadata": {
        "colab_type": "text",
        "id": "yR0EdgrLCaWR"
      },
      "source": [
        "## Import the Image dataset"
      ]
    },
    {
      "cell_type": "markdown",
      "metadata": {
        "colab_type": "text",
        "id": "DLdCchMdCaWQ"
      },
      "source": [
        "In this notebook, we are going to classify images from the [MNIST](http://yann.lecun.com/exdb/mnist/) dataset. \n",
        "\n",
        "\n",
        "<table>\n",
        "  <tr><td>\n",
        "    <img src=\"https://miro.medium.com/max/479/1*yBdJCRwIJGoM7pwU-LNW6Q.png\"\n",
        "         alt=\"CIFAR samples\"  >\n",
        "  </td></tr>\n",
        "  <tr><td align=\"center\">\n",
        "    <b>Figure 1.</b> <a href=\"http://yann.lecun.com/exdb/mnist/\">MNIST samples</a>.<br/>&nbsp;\n",
        "  </td></tr>\n",
        "</table>\n",
        "\n"
      ]
    },
    {
      "cell_type": "code",
      "metadata": {
        "colab_type": "code",
        "id": "7MqDQO0KCaWS",
        "colab": {
          "base_uri": "https://localhost:8080/",
          "height": 51
        },
        "outputId": "9e103f20-fc93-4f3e-e586-df2e87137a8b"
      },
      "source": [
        "tf.random.set_seed(100)\n",
        "mnist = keras.datasets.mnist\n",
        "\n",
        "(train_images, train_labels), (test_images, test_labels) = mnist.load_data()"
      ],
      "execution_count": 4,
      "outputs": [
        {
          "output_type": "stream",
          "text": [
            "Downloading data from https://storage.googleapis.com/tensorflow/tf-keras-datasets/mnist.npz\n",
            "11493376/11490434 [==============================] - 0s 0us/step\n"
          ],
          "name": "stdout"
        }
      ]
    },
    {
      "cell_type": "code",
      "metadata": {
        "colab_type": "code",
        "id": "IjnLH5S2CaWx",
        "colab": {}
      },
      "source": [
        "num_train, img_rows, img_cols =  train_images.shape\n",
        "num_test, _, _ =  test_images.shape\n",
        "num_classes = len(np.unique(train_labels))"
      ],
      "execution_count": 0,
      "outputs": []
    },
    {
      "cell_type": "markdown",
      "metadata": {
        "colab_type": "text",
        "id": "Brm0b_KACaWX"
      },
      "source": [
        "## Explore the data\n",
        "\n",
        "#### Q1: What is the shape of train and test data in MNIST dataset?"
      ]
    },
    {
      "cell_type": "code",
      "metadata": {
        "id": "NFVmt6TFg_wc",
        "colab_type": "code",
        "colab": {}
      },
      "source": [
        "# write your code here to answer above question"
      ],
      "execution_count": 0,
      "outputs": []
    },
    {
      "cell_type": "code",
      "metadata": {
        "id": "w-HgQfVyyneZ",
        "colab_type": "code",
        "outputId": "21ceaf9d-361a-4b0f-e129-7795aa13da32",
        "colab": {
          "base_uri": "https://localhost:8080/",
          "height": 34
        }
      },
      "source": [
        "train_images.shape"
      ],
      "execution_count": 0,
      "outputs": [
        {
          "output_type": "execute_result",
          "data": {
            "text/plain": [
              "(60000, 28, 28)"
            ]
          },
          "metadata": {
            "tags": []
          },
          "execution_count": 5
        }
      ]
    },
    {
      "cell_type": "code",
      "metadata": {
        "id": "zLcdH9BazQ4F",
        "colab_type": "code",
        "outputId": "d9e6b94e-f5d4-4f0c-88b6-0ab717159b88",
        "colab": {
          "base_uri": "https://localhost:8080/",
          "height": 34
        }
      },
      "source": [
        "test_images.shape"
      ],
      "execution_count": 0,
      "outputs": [
        {
          "output_type": "execute_result",
          "data": {
            "text/plain": [
              "(10000, 28, 28)"
            ]
          },
          "metadata": {
            "tags": []
          },
          "execution_count": 6
        }
      ]
    },
    {
      "cell_type": "markdown",
      "metadata": {
        "colab_type": "text",
        "id": "ES6uQoLKCaWr"
      },
      "source": [
        "## Preprocess the data\n",
        "\n",
        "The data must be preprocessed before training the network. "
      ]
    },
    {
      "cell_type": "code",
      "metadata": {
        "colab_type": "code",
        "id": "bW5WzIPlCaWv",
        "colab": {}
      },
      "source": [
        "train_images = train_images / 255.0\n",
        "test_images = test_images / 255.0"
      ],
      "execution_count": 0,
      "outputs": []
    },
    {
      "cell_type": "markdown",
      "metadata": {
        "colab_type": "text",
        "id": "59veuiEZCaW4"
      },
      "source": [
        "## Build the model\n"
      ]
    },
    {
      "cell_type": "markdown",
      "metadata": {
        "colab_type": "text",
        "id": "Gxg1XGm0eOBy"
      },
      "source": [
        "Model should contain following layers:\n",
        "  \n",
        "  Flatten(Input) -> Dense(100, activation='relu') -> Dense(10, activation='softmax')\n",
        "  \n",
        "Use 'Adam' optimizer\n",
        "\n",
        "Use 'accuracy' as your metric\n",
        "\n",
        "#### Q2: Which loss function would be appropriate here? \n",
        "\n"
      ]
    },
    {
      "cell_type": "code",
      "metadata": {
        "id": "G7-4xb8v7T8-",
        "colab_type": "code",
        "colab": {}
      },
      "source": [
        "# Build and compile your model in this cell. Make sure to first answer Q2."
      ],
      "execution_count": 0,
      "outputs": []
    },
    {
      "cell_type": "code",
      "metadata": {
        "id": "bJW9SiuyzdM1",
        "colab_type": "code",
        "colab": {}
      },
      "source": [
        "model = keras.Sequential([\n",
        "    keras.layers.Flatten(input_shape=(28, 28)),\n",
        "    keras.layers.Dense(100, activation='relu'),\n",
        "    keras.layers.Dense(10,activation='softmax')\n",
        "])\n",
        "model.compile(optimizer='adam',\n",
        "              loss=tf.keras.losses.SparseCategoricalCrossentropy(from_logits=True),\n",
        "              metrics=['accuracy'])"
      ],
      "execution_count": 0,
      "outputs": []
    },
    {
      "cell_type": "markdown",
      "metadata": {
        "id": "EwCOzzGM8nqL",
        "colab_type": "text"
      },
      "source": [
        "#### Q3: Total number of **parameters**? \n"
      ]
    },
    {
      "cell_type": "markdown",
      "metadata": {
        "colab_type": "text",
        "id": "qKF6uW-BCaW-"
      },
      "source": [
        "## Train the model\n",
        "\n",
        "Run the following command to train your model:"
      ]
    },
    {
      "cell_type": "code",
      "metadata": {
        "colab_type": "code",
        "id": "xvwvpA64CaW_",
        "colab": {
          "base_uri": "https://localhost:8080/",
          "height": 374
        },
        "outputId": "99649556-86ff-4a2b-e588-d3c3ab777b91"
      },
      "source": [
        "history = model.fit(train_images, train_labels, batch_size=512, validation_data = (test_images, test_labels), epochs=10)"
      ],
      "execution_count": 8,
      "outputs": [
        {
          "output_type": "stream",
          "text": [
            "Train on 60000 samples, validate on 10000 samples\n",
            "Epoch 1/10\n",
            "60000/60000 [==============================] - 2s 26us/sample - loss: 1.7466 - accuracy: 0.7796 - val_loss: 1.5773 - val_accuracy: 0.9086\n",
            "Epoch 2/10\n",
            "60000/60000 [==============================] - 1s 18us/sample - loss: 1.5654 - accuracy: 0.9160 - val_loss: 1.5495 - val_accuracy: 0.9271\n",
            "Epoch 3/10\n",
            "60000/60000 [==============================] - 1s 17us/sample - loss: 1.5457 - accuracy: 0.9292 - val_loss: 1.5370 - val_accuracy: 0.9347\n",
            "Epoch 4/10\n",
            "60000/60000 [==============================] - 1s 17us/sample - loss: 1.5345 - accuracy: 0.9375 - val_loss: 1.5297 - val_accuracy: 0.9410\n",
            "Epoch 5/10\n",
            "60000/60000 [==============================] - 1s 18us/sample - loss: 1.5270 - accuracy: 0.9436 - val_loss: 1.5231 - val_accuracy: 0.9471\n",
            "Epoch 6/10\n",
            "60000/60000 [==============================] - 1s 18us/sample - loss: 1.5207 - accuracy: 0.9488 - val_loss: 1.5194 - val_accuracy: 0.9500\n",
            "Epoch 7/10\n",
            "60000/60000 [==============================] - 1s 18us/sample - loss: 1.5159 - accuracy: 0.9530 - val_loss: 1.5163 - val_accuracy: 0.9502\n",
            "Epoch 8/10\n",
            "60000/60000 [==============================] - 1s 18us/sample - loss: 1.5119 - accuracy: 0.9561 - val_loss: 1.5150 - val_accuracy: 0.9523\n",
            "Epoch 9/10\n",
            "60000/60000 [==============================] - 1s 18us/sample - loss: 1.5086 - accuracy: 0.9594 - val_loss: 1.5114 - val_accuracy: 0.9553\n",
            "Epoch 10/10\n",
            "60000/60000 [==============================] - 1s 18us/sample - loss: 1.5060 - accuracy: 0.9614 - val_loss: 1.5090 - val_accuracy: 0.9563\n"
          ],
          "name": "stdout"
        }
      ]
    },
    {
      "cell_type": "markdown",
      "metadata": {
        "id": "oQqKtmyu8ws2",
        "colab_type": "text"
      },
      "source": [
        "Run the above command before answering Q4.\n",
        "\n",
        "Modify the model and run the above code answer Q5."
      ]
    },
    {
      "cell_type": "code",
      "metadata": {
        "id": "JGWOKPA_4hXy",
        "colab_type": "code",
        "outputId": "db130fe8-c9a4-4e0a-94dc-05a73b022657",
        "colab": {
          "base_uri": "https://localhost:8080/",
          "height": 68
        }
      },
      "source": [
        "test_loss, valid_acc = model.evaluate(test_images,  test_labels, verbose=2)\n",
        "\n",
        "print('\\nValidation accuracy:', valid_acc)"
      ],
      "execution_count": 9,
      "outputs": [
        {
          "output_type": "stream",
          "text": [
            "10000/10000 - 0s - loss: 1.5090 - accuracy: 0.9563\n",
            "\n",
            "Validation accuracy: 0.9563\n"
          ],
          "name": "stdout"
        }
      ]
    },
    {
      "cell_type": "code",
      "metadata": {
        "id": "Mj4f_Tmd5i0F",
        "colab_type": "code",
        "colab": {}
      },
      "source": [
        ""
      ],
      "execution_count": 0,
      "outputs": []
    },
    {
      "cell_type": "code",
      "metadata": {
        "id": "1nQXME2K5wlJ",
        "colab_type": "code",
        "colab": {}
      },
      "source": [
        "model = keras.Sequential([\n",
        "    keras.layers.Flatten(input_shape=(28, 28)),\n",
        "    \n",
        "    keras.layers.Dense(10,activation='softmax')\n",
        "])\n",
        "model.compile(optimizer='adam',\n",
        "              loss=tf.keras.losses.SparseCategoricalCrossentropy(from_logits=True),\n",
        "              metrics=['accuracy'])"
      ],
      "execution_count": 0,
      "outputs": []
    },
    {
      "cell_type": "code",
      "metadata": {
        "id": "q1f48W-3599Z",
        "colab_type": "code",
        "outputId": "1d38e6d0-5ac1-4f00-f88a-80b4f9b1f3a4",
        "colab": {
          "base_uri": "https://localhost:8080/",
          "height": 374
        }
      },
      "source": [
        "history = model.fit(train_images, train_labels, batch_size=512, validation_data = (test_images, test_labels), epochs=10)"
      ],
      "execution_count": 11,
      "outputs": [
        {
          "output_type": "stream",
          "text": [
            "Train on 60000 samples, validate on 10000 samples\n",
            "Epoch 1/10\n",
            "60000/60000 [==============================] - 1s 15us/sample - loss: 1.9564 - accuracy: 0.6652 - val_loss: 1.7600 - val_accuracy: 0.7962\n",
            "Epoch 2/10\n",
            "60000/60000 [==============================] - 1s 11us/sample - loss: 1.7051 - accuracy: 0.8450 - val_loss: 1.6529 - val_accuracy: 0.8807\n",
            "Epoch 3/10\n",
            "60000/60000 [==============================] - 1s 10us/sample - loss: 1.6425 - accuracy: 0.8817 - val_loss: 1.6191 - val_accuracy: 0.8968\n",
            "Epoch 4/10\n",
            "60000/60000 [==============================] - 1s 10us/sample - loss: 1.6176 - accuracy: 0.8927 - val_loss: 1.6016 - val_accuracy: 0.9025\n",
            "Epoch 5/10\n",
            "60000/60000 [==============================] - 1s 11us/sample - loss: 1.6029 - accuracy: 0.8986 - val_loss: 1.5906 - val_accuracy: 0.9066\n",
            "Epoch 6/10\n",
            "60000/60000 [==============================] - 1s 11us/sample - loss: 1.5929 - accuracy: 0.9031 - val_loss: 1.5826 - val_accuracy: 0.9104\n",
            "Epoch 7/10\n",
            "60000/60000 [==============================] - 1s 11us/sample - loss: 1.5855 - accuracy: 0.9071 - val_loss: 1.5769 - val_accuracy: 0.9122\n",
            "Epoch 8/10\n",
            "60000/60000 [==============================] - 1s 10us/sample - loss: 1.5797 - accuracy: 0.9093 - val_loss: 1.5724 - val_accuracy: 0.9137\n",
            "Epoch 9/10\n",
            "60000/60000 [==============================] - 1s 10us/sample - loss: 1.5752 - accuracy: 0.9119 - val_loss: 1.5687 - val_accuracy: 0.9153\n",
            "Epoch 10/10\n",
            "60000/60000 [==============================] - 1s 10us/sample - loss: 1.5713 - accuracy: 0.9140 - val_loss: 1.5652 - val_accuracy: 0.9172\n"
          ],
          "name": "stdout"
        }
      ]
    },
    {
      "cell_type": "markdown",
      "metadata": {
        "id": "NL8MnimTcBit",
        "colab_type": "text"
      },
      "source": [
        "## Test Underfitting and Overfitting"
      ]
    },
    {
      "cell_type": "code",
      "metadata": {
        "id": "r7iTdt4dcGhR",
        "colab_type": "code",
        "colab": {}
      },
      "source": [
        "# summarize history for accuracy\n",
        "def plot_acc(history):\n",
        "  plt.plot(history.history['accuracy'])\n",
        "  plt.plot(history.history['val_accuracy'])\n",
        "  plt.title('model accuracy')\n",
        "  plt.ylabel('accuracy')\n",
        "  plt.xlabel('epoch')\n",
        "  plt.legend(['train', 'test'], loc='upper left')\n",
        "  plt.show()\n",
        "# summarize history for loss\n",
        "def plot_loss(history):\n",
        "  plt.plot(history.history['loss'])\n",
        "  plt.plot(history.history['val_loss'])\n",
        "  plt.title('model loss')\n",
        "  plt.ylabel('loss')\n",
        "  plt.xlabel('epoch')\n",
        "  plt.legend(['train', 'test'], loc='upper left')\n",
        "  plt.show()"
      ],
      "execution_count": 0,
      "outputs": []
    },
    {
      "cell_type": "code",
      "metadata": {
        "id": "KmagO0XOeKss",
        "colab_type": "code",
        "colab": {
          "base_uri": "https://localhost:8080/",
          "height": 573
        },
        "outputId": "d97f34f4-8530-4079-a5a3-3db29567c313"
      },
      "source": [
        "plot_acc(history)\n",
        "plot_loss(history)"
      ],
      "execution_count": 13,
      "outputs": [
        {
          "output_type": "display_data",
          "data": {
            "image/png": "[encoded data removed]",
            "text/plain": [
              "<Figure size 432x288 with 1 Axes>"
            ]
          },
          "metadata": {
            "tags": []
          }
        },
        {
          "output_type": "display_data",
          "data": {
            "image/png": "[encoded data removed]",
            "text/plain": [
              "<Figure size 432x288 with 1 Axes>"
            ]
          },
          "metadata": {
            "tags": []
          }
        }
      ]
    }
  ]
}